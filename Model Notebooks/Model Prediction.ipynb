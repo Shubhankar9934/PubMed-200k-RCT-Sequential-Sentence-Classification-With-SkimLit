{
 "cells": [
  {
   "cell_type": "code",
   "execution_count": 1,
   "id": "1edc1b80",
   "metadata": {},
   "outputs": [],
   "source": [
    "import tensorflow as tf\n",
    "import tensorflow_hub as hub"
   ]
  },
  {
   "cell_type": "code",
   "execution_count": 2,
   "id": "6c2103d2",
   "metadata": {},
   "outputs": [],
   "source": [
    "import tensorflow as tf\n",
    "import tensorflow_text as text\n",
    "from tensorflow.keras import layers\n",
    "from tensorflow.keras.optimizers import Adam"
   ]
  },
  {
   "cell_type": "markdown",
   "id": "6588b83d",
   "metadata": {},
   "source": [
    "## BERT Model\n",
    "\n",
    "* Model with Bert embedding, character and positional embedding (https://github.com/vishalrk1/SkimLit/blob/main/Skimlit_BERT_Model.ipynb)"
   ]
  },
  {
   "cell_type": "code",
   "execution_count": 3,
   "id": "dbc8bae5",
   "metadata": {},
   "outputs": [],
   "source": [
    "load_option = tf.saved_model.LoadOptions(experimental_io_device='/job:localhost')"
   ]
  },
  {
   "cell_type": "code",
   "execution_count": 5,
   "id": "fd0d1f84",
   "metadata": {},
   "outputs": [],
   "source": [
    "skimlit_bert_model = tf.keras.models.load_model('Models/Skimlit_BertModel', options=load_option)"
   ]
  },
  {
   "cell_type": "code",
   "execution_count": null,
   "id": "ad7839b3",
   "metadata": {},
   "outputs": [],
   "source": [
    "skimlit_bert_model.summary()"
   ]
  },
  {
   "cell_type": "markdown",
   "id": "87dba03c",
   "metadata": {},
   "source": [
    "## Simple Model\n",
    "\n",
    "* Model with custom token embedding, character embedding and positional embedding (https://github.com/vishalrk1/SkimLit/blob/main/skimlit_20K_final.ipynb)"
   ]
  },
  {
   "cell_type": "code",
   "execution_count": 20,
   "id": "096de012",
   "metadata": {},
   "outputs": [],
   "source": [
    "skimlit_model = tf.keras.models.load_model('skimlit_tribrid_model')"
   ]
  },
  {
   "cell_type": "code",
   "execution_count": 21,
   "id": "d448c6d3",
   "metadata": {},
   "outputs": [
    {
     "name": "stdout",
     "output_type": "stream",
     "text": [
      "Model: \"model_8\"\n",
      "__________________________________________________________________________________________________\n",
      "Layer (type)                    Output Shape         Param #     Connected to                     \n",
      "==================================================================================================\n",
      "char_inputs (InputLayer)        [(None, 1)]          0                                            \n",
      "__________________________________________________________________________________________________\n",
      "char_vectorizer (TextVectorizat (None, None)         0           char_inputs[0][0]                \n",
      "__________________________________________________________________________________________________\n",
      "token_inputs (InputLayer)       [(None,)]            0                                            \n",
      "__________________________________________________________________________________________________\n",
      "char_embed (Embedding)          (None, None, 25)     1750        char_vectorizer[0][0]            \n",
      "__________________________________________________________________________________________________\n",
      "universal_sentence_encoder (Ker (None, 512)          256797824   token_inputs[0][0]               \n",
      "__________________________________________________________________________________________________\n",
      "bidirectional_1 (Bidirectional) (None, 64)           14848       char_embed[0][0]                 \n",
      "__________________________________________________________________________________________________\n",
      "token_char_hybrid_embedding (Co (None, 576)          0           universal_sentence_encoder[0][0] \n",
      "                                                                 bidirectional_1[0][0]            \n",
      "__________________________________________________________________________________________________\n",
      "line_number_input (InputLayer)  [(None, 15)]         0                                            \n",
      "__________________________________________________________________________________________________\n",
      "total_lines_input (InputLayer)  [(None, 20)]         0                                            \n",
      "__________________________________________________________________________________________________\n",
      "dense_10 (Dense)                (None, 256)          147712      token_char_hybrid_embedding[0][0]\n",
      "__________________________________________________________________________________________________\n",
      "dense_8 (Dense)                 (None, 32)           512         line_number_input[0][0]          \n",
      "__________________________________________________________________________________________________\n",
      "dense_9 (Dense)                 (None, 32)           672         total_lines_input[0][0]          \n",
      "__________________________________________________________________________________________________\n",
      "dropout_2 (Dropout)             (None, 256)          0           dense_10[0][0]                   \n",
      "__________________________________________________________________________________________________\n",
      "token_char_positional_embedding (None, 320)          0           dense_8[0][0]                    \n",
      "                                                                 dense_9[0][0]                    \n",
      "                                                                 dropout_2[0][0]                  \n",
      "__________________________________________________________________________________________________\n",
      "output_layer (Dense)            (None, 5)            1605        token_char_positional_embedding[0\n",
      "==================================================================================================\n",
      "Total params: 256,964,923\n",
      "Trainable params: 167,099\n",
      "Non-trainable params: 256,797,824\n",
      "__________________________________________________________________________________________________\n"
     ]
    }
   ],
   "source": [
    "skimlit_model.summary()"
   ]
  },
  {
   "cell_type": "markdown",
   "id": "69528359",
   "metadata": {},
   "source": [
    "## Making Predictions with Model\n",
    "\n",
    "* Split it into sentences (lines).\n",
    "* split into characters\n",
    "* find number of each line\n",
    "* find number of total lines"
   ]
  },
  {
   "cell_type": "code",
   "execution_count": 22,
   "id": "e941d8c0",
   "metadata": {},
   "outputs": [],
   "source": [
    "import json\n",
    "import pandas as pd"
   ]
  },
  {
   "cell_type": "code",
   "execution_count": 23,
   "id": "deceaaf3",
   "metadata": {},
   "outputs": [],
   "source": [
    "with open(\"skimlit_example_abstracts.json\", \"r\") as f:\n",
    "    example_abstracts = json.load(f)"
   ]
  },
  {
   "cell_type": "code",
   "execution_count": 24,
   "id": "36eccefd",
   "metadata": {},
   "outputs": [
    {
     "data": {
      "text/html": [
       "<div>\n",
       "<style scoped>\n",
       "    .dataframe tbody tr th:only-of-type {\n",
       "        vertical-align: middle;\n",
       "    }\n",
       "\n",
       "    .dataframe tbody tr th {\n",
       "        vertical-align: top;\n",
       "    }\n",
       "\n",
       "    .dataframe thead th {\n",
       "        text-align: right;\n",
       "    }\n",
       "</style>\n",
       "<table border=\"1\" class=\"dataframe\">\n",
       "  <thead>\n",
       "    <tr style=\"text-align: right;\">\n",
       "      <th></th>\n",
       "      <th>abstract</th>\n",
       "      <th>source</th>\n",
       "      <th>details</th>\n",
       "    </tr>\n",
       "  </thead>\n",
       "  <tbody>\n",
       "    <tr>\n",
       "      <th>0</th>\n",
       "      <td>This RCT examined the efficacy of a manualized...</td>\n",
       "      <td>https://pubmed.ncbi.nlm.nih.gov/20232240/</td>\n",
       "      <td>RCT of a manualized social treatment for high-...</td>\n",
       "    </tr>\n",
       "    <tr>\n",
       "      <th>1</th>\n",
       "      <td>Postpartum depression (PPD) is the most preval...</td>\n",
       "      <td>https://pubmed.ncbi.nlm.nih.gov/28012571/</td>\n",
       "      <td>Formatting removed (can be used to compare mod...</td>\n",
       "    </tr>\n",
       "    <tr>\n",
       "      <th>2</th>\n",
       "      <td>Mental illness, including depression, anxiety ...</td>\n",
       "      <td>https://pubmed.ncbi.nlm.nih.gov/28942748/</td>\n",
       "      <td>Effect of nutrition on mental health</td>\n",
       "    </tr>\n",
       "    <tr>\n",
       "      <th>3</th>\n",
       "      <td>Hepatitis C virus (HCV) and alcoholic liver di...</td>\n",
       "      <td>https://pubmed.ncbi.nlm.nih.gov/22244707/</td>\n",
       "      <td>Baclofen promotes alcohol abstinence in alcoho...</td>\n",
       "    </tr>\n",
       "  </tbody>\n",
       "</table>\n",
       "</div>"
      ],
      "text/plain": [
       "                                            abstract  \\\n",
       "0  This RCT examined the efficacy of a manualized...   \n",
       "1  Postpartum depression (PPD) is the most preval...   \n",
       "2  Mental illness, including depression, anxiety ...   \n",
       "3  Hepatitis C virus (HCV) and alcoholic liver di...   \n",
       "\n",
       "                                      source  \\\n",
       "0  https://pubmed.ncbi.nlm.nih.gov/20232240/   \n",
       "1  https://pubmed.ncbi.nlm.nih.gov/28012571/   \n",
       "2  https://pubmed.ncbi.nlm.nih.gov/28942748/   \n",
       "3  https://pubmed.ncbi.nlm.nih.gov/22244707/   \n",
       "\n",
       "                                             details  \n",
       "0  RCT of a manualized social treatment for high-...  \n",
       "1  Formatting removed (can be used to compare mod...  \n",
       "2               Effect of nutrition on mental health  \n",
       "3  Baclofen promotes alcohol abstinence in alcoho...  "
      ]
     },
     "execution_count": 24,
     "metadata": {},
     "output_type": "execute_result"
    }
   ],
   "source": [
    "abstracts = pd.DataFrame(example_abstracts)\n",
    "abstracts.head()"
   ]
  },
  {
   "cell_type": "code",
   "execution_count": 25,
   "id": "f794f568",
   "metadata": {},
   "outputs": [
    {
     "data": {
      "text/plain": [
       "['This RCT examined the efficacy of a manualized social intervention for children with HFASDs.',\n",
       " 'Participants were randomly assigned to treatment or wait-list conditions.',\n",
       " 'Treatment included instruction and therapeutic activities targeting social skills, face-emotion recognition, interest expansion, and interpretation of non-literal language.',\n",
       " 'A response-cost program was applied to reduce problem behaviors and foster skills acquisition.',\n",
       " 'Significant treatment effects were found for five of seven primary outcome measures (parent ratings and direct child measures).',\n",
       " 'Secondary measures based on staff ratings (treatment group only) corroborated gains reported by parents.',\n",
       " 'High levels of parent, child and staff satisfaction were reported, along with high levels of treatment fidelity.',\n",
       " 'Standardized effect size estimates were primarily in the medium and large ranges and favored the treatment group.']"
      ]
     },
     "execution_count": 25,
     "metadata": {},
     "output_type": "execute_result"
    }
   ],
   "source": [
    "from spacy.lang.en import English\n",
    "\n",
    "# setup English sentence parser\n",
    "nlp = English()\n",
    "\n",
    "# create sentence splitting pipeline object\n",
    "sentencizer = nlp.create_pipe(\"sentencizer\")\n",
    "\n",
    "# add sentence splitting pipeline object to sentence parser\n",
    "nlp.add_pipe('sentencizer')\n",
    "\n",
    "# create \"doc\" of parsed sequences, change index for a different abstract\n",
    "doc = nlp(example_abstracts[0][\"abstract\"]) \n",
    "\n",
    "# return detected sentences from doc in string type (not spaCy token type)\n",
    "abstract_lines = [str(sent) for sent in list(doc.sents)] \n",
    "\n",
    "abstract_lines"
   ]
  },
  {
   "cell_type": "code",
   "execution_count": 26,
   "id": "03414ca4",
   "metadata": {},
   "outputs": [
    {
     "data": {
      "text/plain": [
       "[{'text': 'This RCT examined the efficacy of a manualized social intervention for children with HFASDs.',\n",
       "  'line_number': 0,\n",
       "  'total_lines': 7},\n",
       " {'text': 'Participants were randomly assigned to treatment or wait-list conditions.',\n",
       "  'line_number': 1,\n",
       "  'total_lines': 7},\n",
       " {'text': 'Treatment included instruction and therapeutic activities targeting social skills, face-emotion recognition, interest expansion, and interpretation of non-literal language.',\n",
       "  'line_number': 2,\n",
       "  'total_lines': 7},\n",
       " {'text': 'A response-cost program was applied to reduce problem behaviors and foster skills acquisition.',\n",
       "  'line_number': 3,\n",
       "  'total_lines': 7},\n",
       " {'text': 'Significant treatment effects were found for five of seven primary outcome measures (parent ratings and direct child measures).',\n",
       "  'line_number': 4,\n",
       "  'total_lines': 7},\n",
       " {'text': 'Secondary measures based on staff ratings (treatment group only) corroborated gains reported by parents.',\n",
       "  'line_number': 5,\n",
       "  'total_lines': 7},\n",
       " {'text': 'High levels of parent, child and staff satisfaction were reported, along with high levels of treatment fidelity.',\n",
       "  'line_number': 6,\n",
       "  'total_lines': 7},\n",
       " {'text': 'Standardized effect size estimates were primarily in the medium and large ranges and favored the treatment group.',\n",
       "  'line_number': 7,\n",
       "  'total_lines': 7}]"
      ]
     },
     "execution_count": 26,
     "metadata": {},
     "output_type": "execute_result"
    }
   ],
   "source": [
    "# Get total number of lines\n",
    "total_lines_in_sample = len(abstract_lines)\n",
    "\n",
    "# Go through each line in abstract and create a list of dictionaries containing features for each line\n",
    "sample_lines = []\n",
    "for i, line in enumerate(abstract_lines):\n",
    "    sample_dict = {}\n",
    "    sample_dict[\"text\"] = str(line)\n",
    "    sample_dict[\"line_number\"] = i\n",
    "    sample_dict[\"total_lines\"] = total_lines_in_sample - 1\n",
    "    sample_lines.append(sample_dict)\n",
    "\n",
    "sample_lines"
   ]
  },
  {
   "cell_type": "code",
   "execution_count": 27,
   "id": "6b28ccfb",
   "metadata": {},
   "outputs": [
    {
     "data": {
      "text/plain": [
       "<tf.Tensor: shape=(8, 15), dtype=float32, numpy=\n",
       "array([[1., 0., 0., 0., 0., 0., 0., 0., 0., 0., 0., 0., 0., 0., 0.],\n",
       "       [0., 1., 0., 0., 0., 0., 0., 0., 0., 0., 0., 0., 0., 0., 0.],\n",
       "       [0., 0., 1., 0., 0., 0., 0., 0., 0., 0., 0., 0., 0., 0., 0.],\n",
       "       [0., 0., 0., 1., 0., 0., 0., 0., 0., 0., 0., 0., 0., 0., 0.],\n",
       "       [0., 0., 0., 0., 1., 0., 0., 0., 0., 0., 0., 0., 0., 0., 0.],\n",
       "       [0., 0., 0., 0., 0., 1., 0., 0., 0., 0., 0., 0., 0., 0., 0.],\n",
       "       [0., 0., 0., 0., 0., 0., 1., 0., 0., 0., 0., 0., 0., 0., 0.],\n",
       "       [0., 0., 0., 0., 0., 0., 0., 1., 0., 0., 0., 0., 0., 0., 0.]],\n",
       "      dtype=float32)>"
      ]
     },
     "execution_count": 27,
     "metadata": {},
     "output_type": "execute_result"
    }
   ],
   "source": [
    "# Get all line_number values from sample abstract\n",
    "test_abstract_line_numbers = [line[\"line_number\"] for line in sample_lines]\n",
    "\n",
    "# One-hot encode to same depth as training data, so model accepts right input shape\n",
    "test_abstract_line_numbers_one_hot = tf.one_hot(test_abstract_line_numbers, depth=15) \n",
    "test_abstract_line_numbers_one_hot"
   ]
  },
  {
   "cell_type": "code",
   "execution_count": 28,
   "id": "9330b756",
   "metadata": {},
   "outputs": [
    {
     "data": {
      "text/plain": [
       "<tf.Tensor: shape=(8, 20), dtype=float32, numpy=\n",
       "array([[0., 0., 0., 0., 0., 0., 0., 1., 0., 0., 0., 0., 0., 0., 0., 0.,\n",
       "        0., 0., 0., 0.],\n",
       "       [0., 0., 0., 0., 0., 0., 0., 1., 0., 0., 0., 0., 0., 0., 0., 0.,\n",
       "        0., 0., 0., 0.],\n",
       "       [0., 0., 0., 0., 0., 0., 0., 1., 0., 0., 0., 0., 0., 0., 0., 0.,\n",
       "        0., 0., 0., 0.],\n",
       "       [0., 0., 0., 0., 0., 0., 0., 1., 0., 0., 0., 0., 0., 0., 0., 0.,\n",
       "        0., 0., 0., 0.],\n",
       "       [0., 0., 0., 0., 0., 0., 0., 1., 0., 0., 0., 0., 0., 0., 0., 0.,\n",
       "        0., 0., 0., 0.],\n",
       "       [0., 0., 0., 0., 0., 0., 0., 1., 0., 0., 0., 0., 0., 0., 0., 0.,\n",
       "        0., 0., 0., 0.],\n",
       "       [0., 0., 0., 0., 0., 0., 0., 1., 0., 0., 0., 0., 0., 0., 0., 0.,\n",
       "        0., 0., 0., 0.],\n",
       "       [0., 0., 0., 0., 0., 0., 0., 1., 0., 0., 0., 0., 0., 0., 0., 0.,\n",
       "        0., 0., 0., 0.]], dtype=float32)>"
      ]
     },
     "execution_count": 28,
     "metadata": {},
     "output_type": "execute_result"
    }
   ],
   "source": [
    "# Get all total_lines values from sample abstract\n",
    "test_abstract_total_lines = [line[\"total_lines\"] for line in sample_lines]\n",
    "# One-hot encode to same depth as training data, so model accepts right input shape\n",
    "test_abstract_total_lines_one_hot = tf.one_hot(test_abstract_total_lines, depth=20)\n",
    "test_abstract_total_lines_one_hot"
   ]
  },
  {
   "cell_type": "code",
   "execution_count": 29,
   "id": "159059b1",
   "metadata": {},
   "outputs": [],
   "source": [
    "def split_chars(text):\n",
    "    return ' '.join(list(text))"
   ]
  },
  {
   "cell_type": "code",
   "execution_count": 30,
   "id": "187badcf",
   "metadata": {},
   "outputs": [],
   "source": [
    "# Split abstract lines into characters\n",
    "abstract_chars = [split_chars(sentence) for sentence in abstract_lines]"
   ]
  },
  {
   "cell_type": "code",
   "execution_count": 31,
   "id": "516bbc61",
   "metadata": {},
   "outputs": [
    {
     "data": {
      "text/plain": [
       "array([[0.24005985, 0.12260367, 0.02247092, 0.57987505, 0.03499049],\n",
       "       [0.05617492, 0.02073206, 0.75388527, 0.07419971, 0.09500796],\n",
       "       [0.12344755, 0.06010269, 0.45917484, 0.2546255 , 0.10264946],\n",
       "       [0.0825512 , 0.14257629, 0.5514248 , 0.07865825, 0.14478949],\n",
       "       [0.06460248, 0.1236739 , 0.3602884 , 0.05729885, 0.3941363 ],\n",
       "       [0.0306172 , 0.12271825, 0.5668775 , 0.0439826 , 0.2358045 ],\n",
       "       [0.02591554, 0.17573084, 0.0667953 , 0.02152464, 0.7100337 ],\n",
       "       [0.02250943, 0.1462235 , 0.19884332, 0.03152658, 0.6008972 ]],\n",
       "      dtype=float32)"
      ]
     },
     "execution_count": 31,
     "metadata": {},
     "output_type": "execute_result"
    }
   ],
   "source": [
    "# Make predictions on sample abstract features\n",
    "test_abstract_pred_probs = skimlit_model.predict(x=(test_abstract_line_numbers_one_hot,\n",
    "                                                   test_abstract_total_lines_one_hot,\n",
    "                                                   tf.constant(abstract_lines),\n",
    "                                                   tf.constant(abstract_chars)))\n",
    "test_abstract_pred_probs"
   ]
  },
  {
   "cell_type": "code",
   "execution_count": 32,
   "id": "a28ad25a",
   "metadata": {},
   "outputs": [
    {
     "data": {
      "text/plain": [
       "<tf.Tensor: shape=(8,), dtype=int64, numpy=array([3, 2, 2, 2, 4, 2, 4, 4], dtype=int64)>"
      ]
     },
     "execution_count": 32,
     "metadata": {},
     "output_type": "execute_result"
    }
   ],
   "source": [
    "test_abstract_preds = tf.argmax(test_abstract_pred_probs, axis=1)\n",
    "test_abstract_preds"
   ]
  },
  {
   "cell_type": "code",
   "execution_count": 33,
   "id": "8bac2ad0",
   "metadata": {},
   "outputs": [],
   "source": [
    "classes = ['BACKGROUND', 'CONCLUSIONS', 'METHODS', 'OBJECTIVE', 'RESULTS']"
   ]
  },
  {
   "cell_type": "code",
   "execution_count": 34,
   "id": "8df19f2e",
   "metadata": {},
   "outputs": [
    {
     "data": {
      "text/plain": [
       "['OBJECTIVE',\n",
       " 'METHODS',\n",
       " 'METHODS',\n",
       " 'METHODS',\n",
       " 'RESULTS',\n",
       " 'METHODS',\n",
       " 'RESULTS',\n",
       " 'RESULTS']"
      ]
     },
     "execution_count": 34,
     "metadata": {},
     "output_type": "execute_result"
    }
   ],
   "source": [
    "# Turn prediction class integers into string class names\n",
    "test_abstract_pred_classes = [classes[i] for i in test_abstract_preds]\n",
    "test_abstract_pred_classes"
   ]
  },
  {
   "cell_type": "code",
   "execution_count": 35,
   "id": "2a8dd28f",
   "metadata": {},
   "outputs": [
    {
     "name": "stdout",
     "output_type": "stream",
     "text": [
      "OBJECTIVE: This RCT examined the efficacy of a manualized social intervention for children with HFASDs.\n",
      "METHODS: Participants were randomly assigned to treatment or wait-list conditions.\n",
      "METHODS: Treatment included instruction and therapeutic activities targeting social skills, face-emotion recognition, interest expansion, and interpretation of non-literal language.\n",
      "METHODS: A response-cost program was applied to reduce problem behaviors and foster skills acquisition.\n",
      "RESULTS: Significant treatment effects were found for five of seven primary outcome measures (parent ratings and direct child measures).\n",
      "METHODS: Secondary measures based on staff ratings (treatment group only) corroborated gains reported by parents.\n",
      "RESULTS: High levels of parent, child and staff satisfaction were reported, along with high levels of treatment fidelity.\n",
      "RESULTS: Standardized effect size estimates were primarily in the medium and large ranges and favored the treatment group.\n"
     ]
    }
   ],
   "source": [
    "# Visualize abstract lines and predicted sequence labels\n",
    "for i, line in enumerate(abstract_lines):\n",
    "    print(f\"{test_abstract_pred_classes[i]}: {line}\")"
   ]
  },
  {
   "cell_type": "markdown",
   "id": "6529e6fc",
   "metadata": {},
   "source": [
    "# Final Function for predictions\n",
    "\n",
    "* Putting all the above steps in one function"
   ]
  },
  {
   "cell_type": "code",
   "execution_count": 36,
   "id": "6f2f2233",
   "metadata": {},
   "outputs": [],
   "source": [
    "from spacy.lang.en import English\n",
    "\n",
    "def spacy_function(abstract):\n",
    "    \n",
    "    # setup English sentence parser\n",
    "    nlp = English()\n",
    "\n",
    "    # create sentence splitting pipeline object\n",
    "    sentencizer = nlp.create_pipe(\"sentencizer\")\n",
    "\n",
    "    # add sentence splitting pipeline object to sentence parser\n",
    "    nlp.add_pipe('sentencizer')\n",
    "    \n",
    "    # create \"doc\" of parsed sequences, change index for a different abstract\n",
    "    doc = nlp(abstract) \n",
    "\n",
    "    # return detected sentences from doc in string type (not spaCy token type)\n",
    "    abstract_lines = [str(sent) for sent in list(doc.sents)]\n",
    "    \n",
    "    return abstract_lines\n",
    "    \n",
    "# ---------------------------------------------------------------------------------------------------------------------------\n",
    "\n",
    "def split_chars(text):\n",
    "    return ' '.join(list(text))\n",
    "\n",
    "# ---------------------------------------------------------------------------------------------------------------------------\n",
    "\n",
    "def make_predictions(text):\n",
    "    \n",
    "    classes = ['BACKGROUND', 'CONCLUSIONS', 'METHODS', 'OBJECTIVE', 'RESULTS']\n",
    "    abstract_lines = list()\n",
    "    \n",
    "    abstract_lines = spacy_function(text)\n",
    "    \n",
    "    \n",
    "    # Get total number of lines\n",
    "    total_lines_in_sample = len(abstract_lines)\n",
    "\n",
    "    # Go through each line in abstract and create a list of dictionaries containing features for each line\n",
    "    sample_lines = []\n",
    "    for i, line in enumerate(abstract_lines):\n",
    "        sample_dict = {}\n",
    "        sample_dict[\"text\"] = str(line)\n",
    "        sample_dict[\"line_number\"] = i\n",
    "        sample_dict[\"total_lines\"] = total_lines_in_sample - 1\n",
    "        sample_lines.append(sample_dict)\n",
    "    \n",
    "    # Get all line_number values from sample abstract\n",
    "    test_abstract_line_numbers = [line[\"line_number\"] for line in sample_lines]\n",
    "\n",
    "    # One-hot encode to same depth as training data, so model accepts right input shape\n",
    "    test_abstract_line_numbers_one_hot = tf.one_hot(test_abstract_line_numbers, depth=15)\n",
    "    \n",
    "    # Get all total_lines values from sample abstract\n",
    "    test_abstract_total_lines = [line[\"total_lines\"] for line in sample_lines]\n",
    "    \n",
    "    # One-hot encode to same depth as training data, so model accepts right input shape\n",
    "    test_abstract_total_lines_one_hot = tf.one_hot(test_abstract_total_lines, depth=20)\n",
    "    \n",
    "    # Split abstract lines into characters\n",
    "    abstract_chars = [split_chars(sentence) for sentence in abstract_lines]\n",
    "    \n",
    "    # Make predictions on sample abstract features\n",
    "    test_abstract_pred_probs = skimlit_bert_model.predict(x=(test_abstract_line_numbers_one_hot,\n",
    "                                                       test_abstract_total_lines_one_hot,\n",
    "                                                       tf.constant(abstract_lines),\n",
    "                                                       tf.constant(abstract_chars)))\n",
    "    \n",
    "    test_abstract_preds = tf.argmax(test_abstract_pred_probs, axis=1)\n",
    "    \n",
    "    test_abstract_pred_classes = [classes[i] for i in test_abstract_preds]\n",
    "\n",
    "    return (test_abstract_pred_classes, abstract_lines)"
   ]
  },
  {
   "cell_type": "code",
   "execution_count": 37,
   "id": "8147d43f",
   "metadata": {},
   "outputs": [
    {
     "data": {
      "text/plain": [
       "\"Postpartum depression (PPD) is the most prevalent mood disorder associated with childbirth. No single cause of PPD has been identified, however the increased risk of nutritional deficiencies incurred through the high nutritional requirements of pregnancy may play a role in the pathology of depressive symptoms. Three nutritional interventions have drawn particular interest as possible non-invasive and cost-effective prevention and/or treatment strategies for PPD; omega-3 (n-3) long chain polyunsaturated fatty acids (LCPUFA), vitamin D and overall diet. We searched for meta-analyses of randomised controlled trials (RCT's) of nutritional interventions during the perinatal period with PPD as an outcome, and checked for any trials published subsequently to the meta-analyses. Fish oil: Eleven RCT's of prenatal fish oil supplementation RCT's show null and positive effects on PPD symptoms. Vitamin D: no relevant RCT's were identified, however seven observational studies of maternal vitamin D levels with PPD outcomes showed inconsistent associations. Diet: Two Australian RCT's with dietary advice interventions in pregnancy had a positive and null result on PPD. With the exception of fish oil, few RCT's with nutritional interventions during pregnancy assess PPD. Further research is needed to determine whether nutritional intervention strategies during pregnancy can protect against symptoms of PPD. Given the prevalence of PPD and ease of administering PPD measures, we recommend future prenatal nutritional RCT's include PPD as an outcome.\""
      ]
     },
     "execution_count": 37,
     "metadata": {},
     "output_type": "execute_result"
    }
   ],
   "source": [
    "example_abstracts[1]['abstract']"
   ]
  },
  {
   "cell_type": "code",
   "execution_count": 47,
   "id": "e2c65048",
   "metadata": {},
   "outputs": [],
   "source": [
    "text = example_abstracts[3]['abstract']\n",
    "pred, lines = make_predictions(text)"
   ]
  },
  {
   "cell_type": "code",
   "execution_count": 48,
   "id": "4128cebf",
   "metadata": {},
   "outputs": [
    {
     "data": {
      "text/plain": [
       "['BACKGROUND',\n",
       " 'BACKGROUND',\n",
       " 'BACKGROUND',\n",
       " 'BACKGROUND',\n",
       " 'OBJECTIVE',\n",
       " 'METHODS',\n",
       " 'METHODS',\n",
       " 'METHODS',\n",
       " 'RESULTS',\n",
       " 'RESULTS',\n",
       " 'CONCLUSIONS',\n",
       " 'CONCLUSIONS']"
      ]
     },
     "execution_count": 48,
     "metadata": {},
     "output_type": "execute_result"
    }
   ],
   "source": [
    "pred"
   ]
  },
  {
   "cell_type": "code",
   "execution_count": 49,
   "id": "81a8dfae",
   "metadata": {},
   "outputs": [
    {
     "name": "stdout",
     "output_type": "stream",
     "text": [
      "BACKGROUND: This RCT examined the efficacy of a manualized social intervention for children with HFASDs.\n",
      "BACKGROUND: Participants were randomly assigned to treatment or wait-list conditions.\n",
      "BACKGROUND: Treatment included instruction and therapeutic activities targeting social skills, face-emotion recognition, interest expansion, and interpretation of non-literal language.\n",
      "BACKGROUND: A response-cost program was applied to reduce problem behaviors and foster skills acquisition.\n",
      "OBJECTIVE: Significant treatment effects were found for five of seven primary outcome measures (parent ratings and direct child measures).\n",
      "METHODS: Secondary measures based on staff ratings (treatment group only) corroborated gains reported by parents.\n",
      "METHODS: High levels of parent, child and staff satisfaction were reported, along with high levels of treatment fidelity.\n",
      "METHODS: Standardized effect size estimates were primarily in the medium and large ranges and favored the treatment group.\n"
     ]
    }
   ],
   "source": [
    "for i, line in enumerate(abstract_lines):\n",
    "    print(f\"{pred[i]}: {line}\")"
   ]
  },
  {
   "cell_type": "code",
   "execution_count": 50,
   "id": "d22c5528",
   "metadata": {},
   "outputs": [],
   "source": [
    "objective = ''\n",
    "background = ''\n",
    "method = ''\n",
    "conclusion = ''\n",
    "result = ''\n",
    "for i, line in enumerate(lines):\n",
    "    if pred[i] == 'OBJECTIVE':\n",
    "        objective = objective + line\n",
    "        \n",
    "    elif pred[i] == 'BACKGROUND':\n",
    "        background = background + line\n",
    "        \n",
    "    elif pred[i] == 'METHODS':\n",
    "        method = method + line\n",
    "        \n",
    "    elif pred[i] == 'RESULTS':\n",
    "        result = result + line\n",
    "        \n",
    "    elif pred[i] == 'CONCLUSIONS':\n",
    "        conclusion = conclusion + line\n"
   ]
  },
  {
   "cell_type": "code",
   "execution_count": 51,
   "id": "9effebd7",
   "metadata": {},
   "outputs": [
    {
     "data": {
      "text/plain": [
       "\"The goal of this post-hoc analysis was to explore baclofen's effect in a subgroup of alcohol-dependent HCV-infected cirrhotic patients.\""
      ]
     },
     "execution_count": 51,
     "metadata": {},
     "output_type": "execute_result"
    }
   ],
   "source": [
    "objective"
   ]
  },
  {
   "cell_type": "code",
   "execution_count": 52,
   "id": "10de028b",
   "metadata": {},
   "outputs": [
    {
     "data": {
      "text/plain": [
       "'Hepatitis C virus (HCV) and alcoholic liver disease (ALD), either alone or in combination, count for more than two thirds of all liver diseases in the Western world.There is no safe level of drinking in HCV-infected patients and the most effective goal for these patients is total abstinence.Baclofen, a GABA(B) receptor agonist, represents a promising pharmacotherapy for alcohol dependence (AD).Previously, we performed a randomized clinical trial (RCT), which demonstrated the safety and efficacy of baclofen in patients affected by AD and cirrhosis.'"
      ]
     },
     "execution_count": 52,
     "metadata": {},
     "output_type": "execute_result"
    }
   ],
   "source": [
    "background"
   ]
  },
  {
   "cell_type": "code",
   "execution_count": 53,
   "id": "7a67ff46",
   "metadata": {},
   "outputs": [
    {
     "data": {
      "text/plain": [
       "'Any patient with HCV infection was selected for this analysis.Among the 84 subjects randomized in the main trial, 24 alcohol-dependent cirrhotic patients had a HCV infection; 12 received baclofen 10mg t.i.d.and 12 received placebo for 12-weeks.'"
      ]
     },
     "execution_count": 53,
     "metadata": {},
     "output_type": "execute_result"
    }
   ],
   "source": [
    "method"
   ]
  },
  {
   "cell_type": "code",
   "execution_count": 54,
   "id": "a98c00c1",
   "metadata": {},
   "outputs": [
    {
     "data": {
      "text/plain": [
       "'With respect to the placebo group (3/12, 25.0%), a significantly higher number of patients who achieved and maintained total alcohol abstinence was found in the baclofen group (10/12, 83.3%; p=0.0123).Furthermore, in the baclofen group, compared to placebo, there was a significantly higher increase in albumin values from baseline (p=0.0132) and a trend toward a significant reduction in INR levels from baseline (p=0.0716).'"
      ]
     },
     "execution_count": 54,
     "metadata": {},
     "output_type": "execute_result"
    }
   ],
   "source": [
    "result"
   ]
  },
  {
   "cell_type": "code",
   "execution_count": 55,
   "id": "5fc0e70a",
   "metadata": {},
   "outputs": [
    {
     "data": {
      "text/plain": [
       "'In conclusion, baclofen was safe and significantly more effective than placebo in promoting alcohol abstinence, and improving some Liver Function Tests (LFTs) (i.e. albumin, INR) in alcohol-dependent HCV-infected cirrhotic patients.Baclofen may represent a clinically relevant alcohol pharmacotherapy for these patients.'"
      ]
     },
     "execution_count": 55,
     "metadata": {},
     "output_type": "execute_result"
    }
   ],
   "source": [
    "conclusion"
   ]
  },
  {
   "cell_type": "code",
   "execution_count": null,
   "id": "1a55b636",
   "metadata": {},
   "outputs": [],
   "source": []
  },
  {
   "cell_type": "code",
   "execution_count": null,
   "id": "63444061",
   "metadata": {},
   "outputs": [],
   "source": []
  }
 ],
 "metadata": {
  "kernelspec": {
   "display_name": "Python 3",
   "language": "python",
   "name": "python3"
  },
  "language_info": {
   "codemirror_mode": {
    "name": "ipython",
    "version": 3
   },
   "file_extension": ".py",
   "mimetype": "text/x-python",
   "name": "python",
   "nbconvert_exporter": "python",
   "pygments_lexer": "ipython3",
   "version": "3.8.8"
  }
 },
 "nbformat": 4,
 "nbformat_minor": 5
}
